{
 "cells": [
  {
   "cell_type": "code",
   "execution_count": 1,
   "id": "68acc67c",
   "metadata": {},
   "outputs": [],
   "source": [
    "import pandas as pd"
   ]
  },
  {
   "cell_type": "code",
   "execution_count": 6,
   "id": "08777e73",
   "metadata": {
    "collapsed": true
   },
   "outputs": [
    {
     "name": "stdout",
     "output_type": "stream",
     "text": [
      "Collecting scikit-learnNote: you may need to restart the kernel to use updated packages.\n",
      "\n",
      "  Obtaining dependency information for scikit-learn from https://files.pythonhosted.org/packages/77/85/bff3a1e818ec6aa3dd466ff4f4b0a727db9fdb41f2e849747ad902ddbe95/scikit_learn-1.3.0-cp311-cp311-win_amd64.whl.metadata\n",
      "  Downloading scikit_learn-1.3.0-cp311-cp311-win_amd64.whl.metadata (11 kB)\n",
      "Requirement already satisfied: numpy>=1.17.3 in c:\\users\\ambarisha\\.conda\\envs\\mydevenv\\lib\\site-packages (from scikit-learn) (1.25.1)\n",
      "Collecting scipy>=1.5.0 (from scikit-learn)\n",
      "  Obtaining dependency information for scipy>=1.5.0 from https://files.pythonhosted.org/packages/04/b8/947f40706ee2e316fd1a191688f690c4c2b351c2d043fe9deb9b7940e36e/scipy-1.11.1-cp311-cp311-win_amd64.whl.metadata\n",
      "  Downloading scipy-1.11.1-cp311-cp311-win_amd64.whl.metadata (59 kB)\n",
      "     ---------------------------------------- 0.0/59.1 kB ? eta -:--:--\n",
      "     ------------------- ------------------ 30.7/59.1 kB 640.0 kB/s eta 0:00:01\n",
      "     -------------------------------- ----- 51.2/59.1 kB 525.1 kB/s eta 0:00:01\n",
      "     -------------------------------------- 59.1/59.1 kB 520.3 kB/s eta 0:00:00\n",
      "Collecting joblib>=1.1.1 (from scikit-learn)\n",
      "  Obtaining dependency information for joblib>=1.1.1 from https://files.pythonhosted.org/packages/28/08/9dcdaa5aac4634e4c23af26d92121f7ce445c630efa0d3037881ae2407fb/joblib-1.3.1-py3-none-any.whl.metadata\n",
      "  Downloading joblib-1.3.1-py3-none-any.whl.metadata (5.4 kB)\n",
      "Collecting threadpoolctl>=2.0.0 (from scikit-learn)\n",
      "  Obtaining dependency information for threadpoolctl>=2.0.0 from https://files.pythonhosted.org/packages/81/12/fd4dea011af9d69e1cad05c75f3f7202cdcbeac9b712eea58ca779a72865/threadpoolctl-3.2.0-py3-none-any.whl.metadata\n",
      "  Downloading threadpoolctl-3.2.0-py3-none-any.whl.metadata (10.0 kB)\n",
      "Downloading scikit_learn-1.3.0-cp311-cp311-win_amd64.whl (9.2 MB)\n",
      "   ---------------------------------------- 0.0/9.2 MB ? eta -:--:--\n",
      "   ---------------------------------------- 0.0/9.2 MB 1.9 MB/s eta 0:00:05\n",
      "    --------------------------------------- 0.1/9.2 MB 2.1 MB/s eta 0:00:05\n",
      "    --------------------------------------- 0.2/9.2 MB 1.7 MB/s eta 0:00:06\n",
      "   - -------------------------------------- 0.2/9.2 MB 1.7 MB/s eta 0:00:06\n",
      "   - -------------------------------------- 0.3/9.2 MB 1.6 MB/s eta 0:00:06\n",
      "   - -------------------------------------- 0.4/9.2 MB 1.5 MB/s eta 0:00:06\n",
      "   - -------------------------------------- 0.4/9.2 MB 1.4 MB/s eta 0:00:07\n",
      "   - -------------------------------------- 0.5/9.2 MB 1.3 MB/s eta 0:00:07\n",
      "   -- ------------------------------------- 0.5/9.2 MB 1.3 MB/s eta 0:00:07\n",
      "   -- ------------------------------------- 0.6/9.2 MB 1.3 MB/s eta 0:00:07\n",
      "   -- ------------------------------------- 0.6/9.2 MB 1.3 MB/s eta 0:00:07\n",
      "   --- ------------------------------------ 0.7/9.2 MB 1.3 MB/s eta 0:00:07\n",
      "   --- ------------------------------------ 0.8/9.2 MB 1.4 MB/s eta 0:00:06\n",
      "   --- ------------------------------------ 0.9/9.2 MB 1.5 MB/s eta 0:00:06\n",
      "   ---- ----------------------------------- 1.0/9.2 MB 1.5 MB/s eta 0:00:06\n",
      "   ---- ----------------------------------- 1.1/9.2 MB 1.6 MB/s eta 0:00:06\n",
      "   ----- ---------------------------------- 1.3/9.2 MB 1.6 MB/s eta 0:00:05\n",
      "   ------ --------------------------------- 1.4/9.2 MB 1.8 MB/s eta 0:00:05\n",
      "   ------ --------------------------------- 1.6/9.2 MB 1.8 MB/s eta 0:00:05\n",
      "   ------- -------------------------------- 1.7/9.2 MB 1.9 MB/s eta 0:00:04\n",
      "   -------- ------------------------------- 1.9/9.2 MB 2.0 MB/s eta 0:00:04\n",
      "   --------- ------------------------------ 2.1/9.2 MB 2.1 MB/s eta 0:00:04\n",
      "   --------- ------------------------------ 2.2/9.2 MB 2.1 MB/s eta 0:00:04\n",
      "   ---------- ----------------------------- 2.4/9.2 MB 2.1 MB/s eta 0:00:04\n",
      "   ---------- ----------------------------- 2.5/9.2 MB 2.2 MB/s eta 0:00:04\n",
      "   ----------- ---------------------------- 2.6/9.2 MB 2.2 MB/s eta 0:00:03\n",
      "   ----------- ---------------------------- 2.7/9.2 MB 2.2 MB/s eta 0:00:03\n",
      "   ------------ --------------------------- 2.8/9.2 MB 2.2 MB/s eta 0:00:03\n",
      "   ------------ --------------------------- 2.9/9.2 MB 2.3 MB/s eta 0:00:03\n",
      "   ------------- -------------------------- 3.1/9.2 MB 2.3 MB/s eta 0:00:03\n",
      "   -------------- ------------------------- 3.2/9.2 MB 2.3 MB/s eta 0:00:03\n",
      "   -------------- ------------------------- 3.3/9.2 MB 2.3 MB/s eta 0:00:03\n",
      "   --------------- ------------------------ 3.5/9.2 MB 2.3 MB/s eta 0:00:03\n",
      "   --------------- ------------------------ 3.7/9.2 MB 2.4 MB/s eta 0:00:03\n",
      "   ----------------- ---------------------- 3.9/9.2 MB 2.5 MB/s eta 0:00:03\n",
      "   ----------------- ---------------------- 4.1/9.2 MB 2.5 MB/s eta 0:00:03\n",
      "   ------------------- -------------------- 4.4/9.2 MB 2.6 MB/s eta 0:00:02\n",
      "   ------------------- -------------------- 4.6/9.2 MB 2.6 MB/s eta 0:00:02\n",
      "   --------------------- ------------------ 5.0/9.2 MB 2.8 MB/s eta 0:00:02\n",
      "   ---------------------- ----------------- 5.2/9.2 MB 2.8 MB/s eta 0:00:02\n",
      "   ----------------------- ---------------- 5.4/9.2 MB 2.9 MB/s eta 0:00:02\n",
      "   ----------------------- ---------------- 5.5/9.2 MB 2.9 MB/s eta 0:00:02\n",
      "   ------------------------ --------------- 5.6/9.2 MB 2.9 MB/s eta 0:00:02\n",
      "   ------------------------- -------------- 5.8/9.2 MB 2.9 MB/s eta 0:00:02\n",
      "   -------------------------- ------------- 6.1/9.2 MB 2.9 MB/s eta 0:00:02\n",
      "   -------------------------- ------------- 6.2/9.2 MB 2.9 MB/s eta 0:00:02\n",
      "   --------------------------- ------------ 6.2/9.2 MB 2.9 MB/s eta 0:00:02\n",
      "   --------------------------- ------------ 6.4/9.2 MB 2.9 MB/s eta 0:00:01\n",
      "   ---------------------------- ----------- 6.5/9.2 MB 2.9 MB/s eta 0:00:01\n",
      "   ---------------------------- ----------- 6.6/9.2 MB 2.9 MB/s eta 0:00:01\n",
      "   ----------------------------- ---------- 6.7/9.2 MB 2.9 MB/s eta 0:00:01\n",
      "   ----------------------------- ---------- 6.9/9.2 MB 2.9 MB/s eta 0:00:01\n",
      "   ------------------------------ --------- 6.9/9.2 MB 2.9 MB/s eta 0:00:01\n",
      "   ------------------------------ --------- 7.1/9.2 MB 2.9 MB/s eta 0:00:01\n",
      "   ------------------------------- -------- 7.3/9.2 MB 2.9 MB/s eta 0:00:01\n",
      "   --------------------------------- ------ 7.6/9.2 MB 3.0 MB/s eta 0:00:01\n",
      "   ---------------------------------- ----- 7.8/9.2 MB 3.0 MB/s eta 0:00:01\n",
      "   ----------------------------------- ---- 8.1/9.2 MB 3.0 MB/s eta 0:00:01\n",
      "   ------------------------------------- -- 8.6/9.2 MB 3.2 MB/s eta 0:00:01\n",
      "   ---------------------------------------  9.1/9.2 MB 3.3 MB/s eta 0:00:01\n",
      "   ---------------------------------------  9.2/9.2 MB 3.3 MB/s eta 0:00:01\n",
      "   ---------------------------------------- 9.2/9.2 MB 3.2 MB/s eta 0:00:00\n",
      "Downloading joblib-1.3.1-py3-none-any.whl (301 kB)\n",
      "   ---------------------------------------- 0.0/302.0 kB ? eta -:--:--\n",
      "   ---------------------------------------  297.0/302.0 kB 9.2 MB/s eta 0:00:01\n",
      "   ---------------------------------------- 302.0/302.0 kB 6.2 MB/s eta 0:00:00\n",
      "Downloading scipy-1.11.1-cp311-cp311-win_amd64.whl (44.0 MB)\n",
      "   ---------------------------------------- 0.0/44.0 MB ? eta -:--:--\n",
      "   ---------------------------------------- 0.5/44.0 MB 16.3 MB/s eta 0:00:03\n",
      "   - -------------------------------------- 1.4/44.0 MB 17.0 MB/s eta 0:00:03\n",
      "   - -------------------------------------- 1.6/44.0 MB 12.9 MB/s eta 0:00:04\n",
      "   - -------------------------------------- 1.9/44.0 MB 11.2 MB/s eta 0:00:04\n",
      "   -- ------------------------------------- 2.2/44.0 MB 10.1 MB/s eta 0:00:05\n",
      "   -- ------------------------------------- 2.5/44.0 MB 9.5 MB/s eta 0:00:05\n",
      "   -- ------------------------------------- 2.9/44.0 MB 9.6 MB/s eta 0:00:05\n",
      "   -- ------------------------------------- 3.2/44.0 MB 9.2 MB/s eta 0:00:05\n",
      "   --- ------------------------------------ 3.6/44.0 MB 8.8 MB/s eta 0:00:05\n",
      "   --- ------------------------------------ 3.9/44.0 MB 8.5 MB/s eta 0:00:05\n",
      "   --- ------------------------------------ 4.3/44.0 MB 8.5 MB/s eta 0:00:05\n",
      "   ---- ----------------------------------- 4.5/44.0 MB 8.3 MB/s eta 0:00:05\n",
      "   ---- ----------------------------------- 5.0/44.0 MB 8.4 MB/s eta 0:00:05\n",
      "   ---- ----------------------------------- 5.3/44.0 MB 8.5 MB/s eta 0:00:05\n",
      "   ----- ---------------------------------- 6.1/44.0 MB 8.9 MB/s eta 0:00:05\n",
      "   ------ --------------------------------- 6.8/44.0 MB 9.2 MB/s eta 0:00:05\n",
      "   ------- -------------------------------- 7.9/44.0 MB 10.1 MB/s eta 0:00:04\n",
      "   -------- ------------------------------- 9.0/44.0 MB 10.9 MB/s eta 0:00:04\n",
      "   --------- ------------------------------ 10.1/44.0 MB 11.5 MB/s eta 0:00:03\n",
      "   ---------- ----------------------------- 11.5/44.0 MB 12.1 MB/s eta 0:00:03\n",
      "   ----------- ---------------------------- 12.6/44.0 MB 14.2 MB/s eta 0:00:03\n",
      "   ------------ --------------------------- 13.7/44.0 MB 16.8 MB/s eta 0:00:02\n",
      "   ------------- -------------------------- 14.8/44.0 MB 19.8 MB/s eta 0:00:02\n",
      "   -------------- ------------------------- 15.4/44.0 MB 20.5 MB/s eta 0:00:02\n",
      "   -------------- ------------------------- 15.8/44.0 MB 21.1 MB/s eta 0:00:02\n",
      "   -------------- ------------------------- 16.2/44.0 MB 19.2 MB/s eta 0:00:02\n",
      "   --------------- ------------------------ 16.8/44.0 MB 19.8 MB/s eta 0:00:02\n",
      "   --------------- ------------------------ 17.1/44.0 MB 19.3 MB/s eta 0:00:02\n",
      "   ---------------- ----------------------- 17.8/44.0 MB 17.7 MB/s eta 0:00:02\n",
      "   ---------------- ----------------------- 18.4/44.0 MB 16.8 MB/s eta 0:00:02\n",
      "   ----------------- ---------------------- 19.0/44.0 MB 16.4 MB/s eta 0:00:02\n",
      "   ----------------- ---------------------- 19.4/44.0 MB 16.4 MB/s eta 0:00:02\n",
      "   ------------------ --------------------- 20.2/44.0 MB 15.2 MB/s eta 0:00:02\n",
      "   ------------------- -------------------- 21.0/44.0 MB 14.9 MB/s eta 0:00:02\n",
      "   ------------------- -------------------- 21.7/44.0 MB 14.9 MB/s eta 0:00:02\n",
      "   -------------------- ------------------- 23.0/44.0 MB 14.9 MB/s eta 0:00:02\n",
      "   ---------------------- ----------------- 24.2/44.0 MB 15.2 MB/s eta 0:00:02\n",
      "   ----------------------- ---------------- 25.6/44.0 MB 16.0 MB/s eta 0:00:02\n",
      "   ------------------------ --------------- 27.1/44.0 MB 19.3 MB/s eta 0:00:01\n",
      "   ------------------------- -------------- 28.4/44.0 MB 21.8 MB/s eta 0:00:01\n",
      "   --------------------------- ------------ 29.7/44.0 MB 26.2 MB/s eta 0:00:01\n",
      "   ---------------------------- ----------- 30.9/44.0 MB 27.3 MB/s eta 0:00:01\n",
      "   ----------------------------- ---------- 31.9/44.0 MB 27.3 MB/s eta 0:00:01\n",
      "   ------------------------------ --------- 33.0/44.0 MB 27.3 MB/s eta 0:00:01\n",
      "   ------------------------------ --------- 33.8/44.0 MB 26.2 MB/s eta 0:00:01\n",
      "   ------------------------------- -------- 34.1/44.0 MB 23.4 MB/s eta 0:00:01\n",
      "   ------------------------------- -------- 34.5/44.0 MB 22.6 MB/s eta 0:00:01\n",
      "   ------------------------------- -------- 34.7/44.0 MB 21.1 MB/s eta 0:00:01\n",
      "   ------------------------------- -------- 35.0/44.0 MB 18.7 MB/s eta 0:00:01\n",
      "   -------------------------------- ------- 35.3/44.0 MB 17.7 MB/s eta 0:00:01\n",
      "   -------------------------------- ------- 35.8/44.0 MB 16.8 MB/s eta 0:00:01\n",
      "   -------------------------------- ------- 36.0/44.0 MB 16.4 MB/s eta 0:00:01\n",
      "   --------------------------------- ------ 36.3/44.0 MB 15.2 MB/s eta 0:00:01\n",
      "   --------------------------------- ------ 36.6/44.0 MB 14.6 MB/s eta 0:00:01\n",
      "   --------------------------------- ------ 37.2/44.0 MB 13.6 MB/s eta 0:00:01\n",
      "   --------------------------------- ------ 37.3/44.0 MB 13.4 MB/s eta 0:00:01\n",
      "   ---------------------------------- ----- 38.0/44.0 MB 12.4 MB/s eta 0:00:01\n",
      "   ----------------------------------- ---- 39.0/44.0 MB 12.4 MB/s eta 0:00:01\n",
      "   ------------------------------------ --- 39.6/44.0 MB 11.9 MB/s eta 0:00:01\n",
      "   ------------------------------------ --- 40.3/44.0 MB 11.9 MB/s eta 0:00:01\n",
      "   ------------------------------------- -- 41.5/44.0 MB 12.1 MB/s eta 0:00:01\n",
      "   -------------------------------------- - 42.4/44.0 MB 11.7 MB/s eta 0:00:01\n",
      "   ---------------------------------------  43.3/44.0 MB 11.7 MB/s eta 0:00:01\n",
      "   ---------------------------------------  43.9/44.0 MB 11.7 MB/s eta 0:00:01\n",
      "   ---------------------------------------  43.9/44.0 MB 11.7 MB/s eta 0:00:01\n",
      "   ---------------------------------------  43.9/44.0 MB 10.6 MB/s eta 0:00:01\n",
      "   ---------------------------------------  44.0/44.0 MB 10.2 MB/s eta 0:00:01\n",
      "   ---------------------------------------  44.0/44.0 MB 10.2 MB/s eta 0:00:01\n",
      "   ---------------------------------------- 44.0/44.0 MB 9.1 MB/s eta 0:00:00\n",
      "Downloading threadpoolctl-3.2.0-py3-none-any.whl (15 kB)\n",
      "Installing collected packages: threadpoolctl, scipy, joblib, scikit-learn\n",
      "Successfully installed joblib-1.3.1 scikit-learn-1.3.0 scipy-1.11.1 threadpoolctl-3.2.0\n"
     ]
    }
   ],
   "source": [
    "pip install -U scikit-learn"
   ]
  },
  {
   "cell_type": "code",
   "execution_count": null,
   "id": "d524d2ee",
   "metadata": {},
   "outputs": [],
   "source": []
  },
  {
   "cell_type": "code",
   "execution_count": 4,
   "id": "1b0d40cd",
   "metadata": {},
   "outputs": [],
   "source": [
    "data = pd.read_csv('D:\\Projects\\Regression_Analysis\\Business Forecasting Model\\V2\\Input_Data_File_Final_V2.csv')"
   ]
  },
  {
   "cell_type": "code",
   "execution_count": 5,
   "id": "0e03f328",
   "metadata": {},
   "outputs": [],
   "source": [
    "from sklearn import  linear_model, metrics\n",
    "from sklearn.model_selection import train_test_split\n",
    "import numpy as np"
   ]
  },
  {
   "cell_type": "code",
   "execution_count": 6,
   "id": "83ac8667",
   "metadata": {},
   "outputs": [
    {
     "data": {
      "text/html": [
       "<div>\n",
       "<style scoped>\n",
       "    .dataframe tbody tr th:only-of-type {\n",
       "        vertical-align: middle;\n",
       "    }\n",
       "\n",
       "    .dataframe tbody tr th {\n",
       "        vertical-align: top;\n",
       "    }\n",
       "\n",
       "    .dataframe thead th {\n",
       "        text-align: right;\n",
       "    }\n",
       "</style>\n",
       "<table border=\"1\" class=\"dataframe\">\n",
       "  <thead>\n",
       "    <tr style=\"text-align: right;\">\n",
       "      <th></th>\n",
       "      <th>Month</th>\n",
       "      <th>Monthly_Spends_on_Performace_Marketing</th>\n",
       "      <th>no_of_Agents</th>\n",
       "      <th>LCR</th>\n",
       "      <th>Business_Last_year_Same_Month</th>\n",
       "      <th>Website_leads</th>\n",
       "      <th>SEM_Leads</th>\n",
       "      <th>Other_Leads</th>\n",
       "      <th>EPI</th>\n",
       "    </tr>\n",
       "  </thead>\n",
       "  <tbody>\n",
       "    <tr>\n",
       "      <th>0</th>\n",
       "      <td>Apr-20</td>\n",
       "      <td>2.2</td>\n",
       "      <td>151</td>\n",
       "      <td>0.03</td>\n",
       "      <td>4.7</td>\n",
       "      <td>51007</td>\n",
       "      <td>23837</td>\n",
       "      <td>10606</td>\n",
       "      <td>4.2</td>\n",
       "    </tr>\n",
       "    <tr>\n",
       "      <th>1</th>\n",
       "      <td>May-20</td>\n",
       "      <td>1.5</td>\n",
       "      <td>226</td>\n",
       "      <td>0.03</td>\n",
       "      <td>7.1</td>\n",
       "      <td>53320</td>\n",
       "      <td>24540</td>\n",
       "      <td>10045</td>\n",
       "      <td>5.8</td>\n",
       "    </tr>\n",
       "    <tr>\n",
       "      <th>2</th>\n",
       "      <td>Jun-20</td>\n",
       "      <td>2.2</td>\n",
       "      <td>258</td>\n",
       "      <td>0.02</td>\n",
       "      <td>8.3</td>\n",
       "      <td>60328</td>\n",
       "      <td>27288</td>\n",
       "      <td>18695</td>\n",
       "      <td>9.4</td>\n",
       "    </tr>\n",
       "    <tr>\n",
       "      <th>3</th>\n",
       "      <td>Jul-20</td>\n",
       "      <td>2.0</td>\n",
       "      <td>262</td>\n",
       "      <td>0.02</td>\n",
       "      <td>7.5</td>\n",
       "      <td>66658</td>\n",
       "      <td>31680</td>\n",
       "      <td>23397</td>\n",
       "      <td>10.2</td>\n",
       "    </tr>\n",
       "    <tr>\n",
       "      <th>4</th>\n",
       "      <td>Aug-20</td>\n",
       "      <td>2.4</td>\n",
       "      <td>259</td>\n",
       "      <td>0.02</td>\n",
       "      <td>8.0</td>\n",
       "      <td>74187</td>\n",
       "      <td>30967</td>\n",
       "      <td>40909</td>\n",
       "      <td>10.1</td>\n",
       "    </tr>\n",
       "  </tbody>\n",
       "</table>\n",
       "</div>"
      ],
      "text/plain": [
       "    Month  Monthly_Spends_on_Performace_Marketing  no_of_Agents   LCR  \\\n",
       "0  Apr-20                                     2.2           151  0.03   \n",
       "1  May-20                                     1.5           226  0.03   \n",
       "2  Jun-20                                     2.2           258  0.02   \n",
       "3  Jul-20                                     2.0           262  0.02   \n",
       "4  Aug-20                                     2.4           259  0.02   \n",
       "\n",
       "   Business_Last_year_Same_Month  Website_leads  SEM_Leads  Other_Leads   EPI  \n",
       "0                            4.7          51007      23837        10606   4.2  \n",
       "1                            7.1          53320      24540        10045   5.8  \n",
       "2                            8.3          60328      27288        18695   9.4  \n",
       "3                            7.5          66658      31680        23397  10.2  \n",
       "4                            8.0          74187      30967        40909  10.1  "
      ]
     },
     "execution_count": 6,
     "metadata": {},
     "output_type": "execute_result"
    }
   ],
   "source": [
    "data.head()"
   ]
  },
  {
   "cell_type": "code",
   "execution_count": 7,
   "id": "abb492a8",
   "metadata": {},
   "outputs": [],
   "source": [
    "y = data[['EPI']]\n",
    "x = data[['Monthly_Spends_on_Performace_Marketing', 'no_of_Agents', 'LCR', 'Business_Last_year_Same_Month','Website_leads','SEM_Leads','Other_Leads']]"
   ]
  },
  {
   "cell_type": "code",
   "execution_count": 8,
   "id": "dd2990d7",
   "metadata": {},
   "outputs": [
    {
     "data": {
      "text/html": [
       "<div>\n",
       "<style scoped>\n",
       "    .dataframe tbody tr th:only-of-type {\n",
       "        vertical-align: middle;\n",
       "    }\n",
       "\n",
       "    .dataframe tbody tr th {\n",
       "        vertical-align: top;\n",
       "    }\n",
       "\n",
       "    .dataframe thead th {\n",
       "        text-align: right;\n",
       "    }\n",
       "</style>\n",
       "<table border=\"1\" class=\"dataframe\">\n",
       "  <thead>\n",
       "    <tr style=\"text-align: right;\">\n",
       "      <th></th>\n",
       "      <th>Monthly_Spends_on_Performace_Marketing</th>\n",
       "      <th>no_of_Agents</th>\n",
       "      <th>LCR</th>\n",
       "      <th>Business_Last_year_Same_Month</th>\n",
       "      <th>Website_leads</th>\n",
       "      <th>SEM_Leads</th>\n",
       "      <th>Other_Leads</th>\n",
       "    </tr>\n",
       "  </thead>\n",
       "  <tbody>\n",
       "    <tr>\n",
       "      <th>0</th>\n",
       "      <td>2.2</td>\n",
       "      <td>151</td>\n",
       "      <td>0.03</td>\n",
       "      <td>4.7</td>\n",
       "      <td>51007</td>\n",
       "      <td>23837</td>\n",
       "      <td>10606</td>\n",
       "    </tr>\n",
       "    <tr>\n",
       "      <th>1</th>\n",
       "      <td>1.5</td>\n",
       "      <td>226</td>\n",
       "      <td>0.03</td>\n",
       "      <td>7.1</td>\n",
       "      <td>53320</td>\n",
       "      <td>24540</td>\n",
       "      <td>10045</td>\n",
       "    </tr>\n",
       "    <tr>\n",
       "      <th>2</th>\n",
       "      <td>2.2</td>\n",
       "      <td>258</td>\n",
       "      <td>0.02</td>\n",
       "      <td>8.3</td>\n",
       "      <td>60328</td>\n",
       "      <td>27288</td>\n",
       "      <td>18695</td>\n",
       "    </tr>\n",
       "    <tr>\n",
       "      <th>3</th>\n",
       "      <td>2.0</td>\n",
       "      <td>262</td>\n",
       "      <td>0.02</td>\n",
       "      <td>7.5</td>\n",
       "      <td>66658</td>\n",
       "      <td>31680</td>\n",
       "      <td>23397</td>\n",
       "    </tr>\n",
       "    <tr>\n",
       "      <th>4</th>\n",
       "      <td>2.4</td>\n",
       "      <td>259</td>\n",
       "      <td>0.02</td>\n",
       "      <td>8.0</td>\n",
       "      <td>74187</td>\n",
       "      <td>30967</td>\n",
       "      <td>40909</td>\n",
       "    </tr>\n",
       "  </tbody>\n",
       "</table>\n",
       "</div>"
      ],
      "text/plain": [
       "   Monthly_Spends_on_Performace_Marketing  no_of_Agents   LCR  \\\n",
       "0                                     2.2           151  0.03   \n",
       "1                                     1.5           226  0.03   \n",
       "2                                     2.2           258  0.02   \n",
       "3                                     2.0           262  0.02   \n",
       "4                                     2.4           259  0.02   \n",
       "\n",
       "   Business_Last_year_Same_Month  Website_leads  SEM_Leads  Other_Leads  \n",
       "0                            4.7          51007      23837        10606  \n",
       "1                            7.1          53320      24540        10045  \n",
       "2                            8.3          60328      27288        18695  \n",
       "3                            7.5          66658      31680        23397  \n",
       "4                            8.0          74187      30967        40909  "
      ]
     },
     "execution_count": 8,
     "metadata": {},
     "output_type": "execute_result"
    }
   ],
   "source": [
    "x.head()"
   ]
  },
  {
   "cell_type": "code",
   "execution_count": 9,
   "id": "9686a3e1",
   "metadata": {},
   "outputs": [],
   "source": [
    "reg = linear_model.LinearRegression()"
   ]
  },
  {
   "cell_type": "code",
   "execution_count": 10,
   "id": "d7f69a38",
   "metadata": {},
   "outputs": [
    {
     "data": {
      "text/html": [
       "<style>#sk-container-id-1 {color: black;}#sk-container-id-1 pre{padding: 0;}#sk-container-id-1 div.sk-toggleable {background-color: white;}#sk-container-id-1 label.sk-toggleable__label {cursor: pointer;display: block;width: 100%;margin-bottom: 0;padding: 0.3em;box-sizing: border-box;text-align: center;}#sk-container-id-1 label.sk-toggleable__label-arrow:before {content: \"▸\";float: left;margin-right: 0.25em;color: #696969;}#sk-container-id-1 label.sk-toggleable__label-arrow:hover:before {color: black;}#sk-container-id-1 div.sk-estimator:hover label.sk-toggleable__label-arrow:before {color: black;}#sk-container-id-1 div.sk-toggleable__content {max-height: 0;max-width: 0;overflow: hidden;text-align: left;background-color: #f0f8ff;}#sk-container-id-1 div.sk-toggleable__content pre {margin: 0.2em;color: black;border-radius: 0.25em;background-color: #f0f8ff;}#sk-container-id-1 input.sk-toggleable__control:checked~div.sk-toggleable__content {max-height: 200px;max-width: 100%;overflow: auto;}#sk-container-id-1 input.sk-toggleable__control:checked~label.sk-toggleable__label-arrow:before {content: \"▾\";}#sk-container-id-1 div.sk-estimator input.sk-toggleable__control:checked~label.sk-toggleable__label {background-color: #d4ebff;}#sk-container-id-1 div.sk-label input.sk-toggleable__control:checked~label.sk-toggleable__label {background-color: #d4ebff;}#sk-container-id-1 input.sk-hidden--visually {border: 0;clip: rect(1px 1px 1px 1px);clip: rect(1px, 1px, 1px, 1px);height: 1px;margin: -1px;overflow: hidden;padding: 0;position: absolute;width: 1px;}#sk-container-id-1 div.sk-estimator {font-family: monospace;background-color: #f0f8ff;border: 1px dotted black;border-radius: 0.25em;box-sizing: border-box;margin-bottom: 0.5em;}#sk-container-id-1 div.sk-estimator:hover {background-color: #d4ebff;}#sk-container-id-1 div.sk-parallel-item::after {content: \"\";width: 100%;border-bottom: 1px solid gray;flex-grow: 1;}#sk-container-id-1 div.sk-label:hover label.sk-toggleable__label {background-color: #d4ebff;}#sk-container-id-1 div.sk-serial::before {content: \"\";position: absolute;border-left: 1px solid gray;box-sizing: border-box;top: 0;bottom: 0;left: 50%;z-index: 0;}#sk-container-id-1 div.sk-serial {display: flex;flex-direction: column;align-items: center;background-color: white;padding-right: 0.2em;padding-left: 0.2em;position: relative;}#sk-container-id-1 div.sk-item {position: relative;z-index: 1;}#sk-container-id-1 div.sk-parallel {display: flex;align-items: stretch;justify-content: center;background-color: white;position: relative;}#sk-container-id-1 div.sk-item::before, #sk-container-id-1 div.sk-parallel-item::before {content: \"\";position: absolute;border-left: 1px solid gray;box-sizing: border-box;top: 0;bottom: 0;left: 50%;z-index: -1;}#sk-container-id-1 div.sk-parallel-item {display: flex;flex-direction: column;z-index: 1;position: relative;background-color: white;}#sk-container-id-1 div.sk-parallel-item:first-child::after {align-self: flex-end;width: 50%;}#sk-container-id-1 div.sk-parallel-item:last-child::after {align-self: flex-start;width: 50%;}#sk-container-id-1 div.sk-parallel-item:only-child::after {width: 0;}#sk-container-id-1 div.sk-dashed-wrapped {border: 1px dashed gray;margin: 0 0.4em 0.5em 0.4em;box-sizing: border-box;padding-bottom: 0.4em;background-color: white;}#sk-container-id-1 div.sk-label label {font-family: monospace;font-weight: bold;display: inline-block;line-height: 1.2em;}#sk-container-id-1 div.sk-label-container {text-align: center;}#sk-container-id-1 div.sk-container {/* jupyter's `normalize.less` sets `[hidden] { display: none; }` but bootstrap.min.css set `[hidden] { display: none !important; }` so we also need the `!important` here to be able to override the default hidden behavior on the sphinx rendered scikit-learn.org. See: https://github.com/scikit-learn/scikit-learn/issues/21755 */display: inline-block !important;position: relative;}#sk-container-id-1 div.sk-text-repr-fallback {display: none;}</style><div id=\"sk-container-id-1\" class=\"sk-top-container\"><div class=\"sk-text-repr-fallback\"><pre>LinearRegression()</pre><b>In a Jupyter environment, please rerun this cell to show the HTML representation or trust the notebook. <br />On GitHub, the HTML representation is unable to render, please try loading this page with nbviewer.org.</b></div><div class=\"sk-container\" hidden><div class=\"sk-item\"><div class=\"sk-estimator sk-toggleable\"><input class=\"sk-toggleable__control sk-hidden--visually\" id=\"sk-estimator-id-1\" type=\"checkbox\" checked><label for=\"sk-estimator-id-1\" class=\"sk-toggleable__label sk-toggleable__label-arrow\">LinearRegression</label><div class=\"sk-toggleable__content\"><pre>LinearRegression()</pre></div></div></div></div></div>"
      ],
      "text/plain": [
       "LinearRegression()"
      ]
     },
     "execution_count": 10,
     "metadata": {},
     "output_type": "execute_result"
    }
   ],
   "source": [
    "reg.fit(x, y)"
   ]
  },
  {
   "cell_type": "code",
   "execution_count": 13,
   "id": "17b76194",
   "metadata": {},
   "outputs": [],
   "source": [
    "x_predict = [[4.55, 300, 0.02, 9.83,48985,31875,44562]]"
   ]
  },
  {
   "cell_type": "code",
   "execution_count": 14,
   "id": "d43a0ce6",
   "metadata": {},
   "outputs": [
    {
     "name": "stdout",
     "output_type": "stream",
     "text": [
      "[[10.69135986]]\n"
     ]
    },
    {
     "name": "stderr",
     "output_type": "stream",
     "text": [
      "C:\\Users\\ambarisha\\.conda\\envs\\MyDevEnv\\Lib\\site-packages\\sklearn\\base.py:465: UserWarning: X does not have valid feature names, but LinearRegression was fitted with feature names\n",
      "  warnings.warn(\n"
     ]
    }
   ],
   "source": [
    "print(reg.predict(x_predict)) #Aug23 Predictions"
   ]
  },
  {
   "cell_type": "code",
   "execution_count": 20,
   "id": "bdeae37e",
   "metadata": {},
   "outputs": [
    {
     "name": "stderr",
     "output_type": "stream",
     "text": [
      "C:\\ProgramData\\Anaconda3\\lib\\site-packages\\sklearn\\base.py:450: UserWarning: X does not have valid feature names, but LinearRegression was fitted with feature names\n",
      "  warnings.warn(\n"
     ]
    },
    {
     "data": {
      "text/plain": [
       "array([[7.26489089]])"
      ]
     },
     "execution_count": 20,
     "metadata": {},
     "output_type": "execute_result"
    }
   ],
   "source": [
    "x_predict = [[2.7, 286, 0.014, 10.2]]\n",
    "reg.predict(x_predict)"
   ]
  },
  {
   "cell_type": "code",
   "execution_count": null,
   "id": "33d58448",
   "metadata": {},
   "outputs": [],
   "source": []
  }
 ],
 "metadata": {
  "kernelspec": {
   "display_name": "Python 3 (ipykernel)",
   "language": "python",
   "name": "python3"
  },
  "language_info": {
   "codemirror_mode": {
    "name": "ipython",
    "version": 3
   },
   "file_extension": ".py",
   "mimetype": "text/x-python",
   "name": "python",
   "nbconvert_exporter": "python",
   "pygments_lexer": "ipython3",
   "version": "3.11.4"
  }
 },
 "nbformat": 4,
 "nbformat_minor": 5
}
